{
 "cells": [
  {
   "cell_type": "code",
   "execution_count": 1,
   "metadata": {},
   "outputs": [],
   "source": [
    "import numpy as np\n",
    "import pandas as pd"
   ]
  },
  {
   "cell_type": "code",
   "execution_count": 2,
   "metadata": {},
   "outputs": [],
   "source": [
    "df = pd.read_excel('gdplev1.xlsx', sheet_name = 1)\n",
    "df.dropna(inplace = True)\n",
    "df.reset_index(inplace = True)\n",
    "df.drop(columns=['index'], inplace = True)"
   ]
  },
  {
   "cell_type": "markdown",
   "metadata": {},
   "source": [
    "Importei os métodos e limpei o df."
   ]
  },
  {
   "cell_type": "code",
   "execution_count": 4,
   "metadata": {},
   "outputs": [
    {
     "data": {
      "text/plain": [
       "0.7893784194441822"
      ]
     },
     "execution_count": 4,
     "metadata": {},
     "output_type": "execute_result"
    }
   ],
   "source": [
    "gdparray = df['gdp'].values\n",
    "glist = []\n",
    "qarray = df['quarter'].values\n",
    "\n",
    "for e in range(1, len(gdparray)):\n",
    "    g0 = ((gdparray[e] - gdparray[e - 1]) * 100.0 / gdparray[e - 1])\n",
    "    glist.append(g0)\n",
    "\n",
    "gavg = sum(glist) / len(glist)\n",
    "gavg"
   ]
  },
  {
   "cell_type": "markdown",
   "metadata": {},
   "source": [
    "Achamos o crescimento médio de 1949 até 2019."
   ]
  },
  {
   "cell_type": "code",
   "execution_count": 5,
   "metadata": {},
   "outputs": [],
   "source": [
    "walmart = 1 / (1 + gavg)\n",
    "gdpw = gdparray * walmart"
   ]
  },
  {
   "cell_type": "markdown",
   "metadata": {},
   "source": [
    "Temos o PIB descontado pelo crescimento médio (```gdpw```)."
   ]
  },
  {
   "cell_type": "code",
   "execution_count": 6,
   "metadata": {},
   "outputs": [],
   "source": [
    "picosvalue = []\n",
    "picosindex = []\n",
    "gdpwint = gdpw.astype(int)\n",
    "\n",
    "for value in range(1, len(gdpwint)):\n",
    "    if gdpwint[value] == gdpwint[0]:\n",
    "        pass\n",
    "    else:\n",
    "        if gdpwint[value] == gdpwint[len(gdpwint) - 1]:\n",
    "            pass\n",
    "        else:\n",
    "            if gdpwint[value] > gdpwint[value - 1]:\n",
    "                if gdpwint[value] > gdpwint[value + 1]:\n",
    "                    picosvalue.append(gdpwint[value])\n",
    "                    picosindex.append(value)\n",
    "\n",
    "for value in range(1, len(gdpwint)):\n",
    "    if gdpwint[value] == gdpwint[0]:\n",
    "        pass\n",
    "    else:\n",
    "        if gdpwint[value] == gdpwint[len(gdpwint) - 1]:\n",
    "            pass\n",
    "        else:\n",
    "            if gdpwint[value] > gdpwint[value - 1]:\n",
    "                if gdpwint[value] > gdpwint[value + 1]:\n",
    "                    picosvalue.append(gdpwint[value])\n",
    "                    picosindex.append(value)\n",
    "                    \n",
    "qpicos = [qarray[e] for e in picosindex]\n",
    "picosdict = dict(zip(qpicos, picosvalue))"
   ]
  },
  {
   "cell_type": "markdown",
   "metadata": {},
   "source": [
    "Achamos os picos. A relação trimestre-pico está em ```picosdict```."
   ]
  },
  {
   "cell_type": "code",
   "execution_count": 7,
   "metadata": {},
   "outputs": [
    {
     "data": {
      "text/plain": [
       "False"
      ]
     },
     "execution_count": 7,
     "metadata": {},
     "output_type": "execute_result"
    }
   ],
   "source": [
    "picosavg = sum(picosvalue) / len(picosvalue)\n",
    "gdpwint[0] >= picosavg"
   ]
  },
  {
   "cell_type": "markdown",
   "metadata": {},
   "source": [
    "Calculamos o PIB médio dos picos e concluímos que é maior que o de 1949."
   ]
  }
 ],
 "metadata": {
  "kernelspec": {
   "display_name": "Python 3",
   "language": "python",
   "name": "python3"
  },
  "language_info": {
   "codemirror_mode": {
    "name": "ipython",
    "version": 3
   },
   "file_extension": ".py",
   "mimetype": "text/x-python",
   "name": "python",
   "nbconvert_exporter": "python",
   "pygments_lexer": "ipython3",
   "version": "3.7.3"
  }
 },
 "nbformat": 4,
 "nbformat_minor": 2
}
