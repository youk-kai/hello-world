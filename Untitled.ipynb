{
 "cells": [
  {
   "cell_type": "code",
   "execution_count": 9,
   "metadata": {},
   "outputs": [],
   "source": [
    "import numpy as np, matplotlib.pyplot as plt, pandas as pd"
   ]
  },
  {
   "cell_type": "code",
   "execution_count": 16,
   "metadata": {},
   "outputs": [],
   "source": [
    "from datetime import datetime"
   ]
  },
  {
   "cell_type": "code",
   "execution_count": 42,
   "metadata": {},
   "outputs": [],
   "source": [
    "%matplotlib inline"
   ]
  },
  {
   "cell_type": "code",
   "execution_count": 10,
   "metadata": {},
   "outputs": [],
   "source": [
    "copasa = pd.read_csv('CSMG3.SA.csv')\n",
    "sanepar = pd.read_csv('SAPR3.SA.csv')"
   ]
  },
  {
   "cell_type": "code",
   "execution_count": 22,
   "metadata": {},
   "outputs": [
    {
     "data": {
      "text/html": [
       "<div>\n",
       "<style scoped>\n",
       "    .dataframe tbody tr th:only-of-type {\n",
       "        vertical-align: middle;\n",
       "    }\n",
       "\n",
       "    .dataframe tbody tr th {\n",
       "        vertical-align: top;\n",
       "    }\n",
       "\n",
       "    .dataframe thead th {\n",
       "        text-align: right;\n",
       "    }\n",
       "</style>\n",
       "<table border=\"1\" class=\"dataframe\">\n",
       "  <thead>\n",
       "    <tr style=\"text-align: right;\">\n",
       "      <th></th>\n",
       "      <th>Date</th>\n",
       "      <th>Open</th>\n",
       "      <th>High</th>\n",
       "      <th>Low</th>\n",
       "      <th>Close</th>\n",
       "      <th>Adj Close</th>\n",
       "      <th>Volume</th>\n",
       "    </tr>\n",
       "  </thead>\n",
       "  <tbody>\n",
       "    <tr>\n",
       "      <th>0</th>\n",
       "      <td>2017-01-02</td>\n",
       "      <td>36.099998</td>\n",
       "      <td>36.900002</td>\n",
       "      <td>35.730000</td>\n",
       "      <td>100.000000</td>\n",
       "      <td>29.840067</td>\n",
       "      <td>270200.0</td>\n",
       "    </tr>\n",
       "    <tr>\n",
       "      <th>1</th>\n",
       "      <td>2017-01-03</td>\n",
       "      <td>36.770000</td>\n",
       "      <td>37.020000</td>\n",
       "      <td>35.830002</td>\n",
       "      <td>98.369571</td>\n",
       "      <td>29.353537</td>\n",
       "      <td>521200.0</td>\n",
       "    </tr>\n",
       "    <tr>\n",
       "      <th>2</th>\n",
       "      <td>2017-01-04</td>\n",
       "      <td>36.360001</td>\n",
       "      <td>36.410000</td>\n",
       "      <td>35.860001</td>\n",
       "      <td>98.315220</td>\n",
       "      <td>29.337328</td>\n",
       "      <td>154400.0</td>\n",
       "    </tr>\n",
       "    <tr>\n",
       "      <th>3</th>\n",
       "      <td>2017-01-05</td>\n",
       "      <td>35.939999</td>\n",
       "      <td>36.410000</td>\n",
       "      <td>35.889999</td>\n",
       "      <td>98.233704</td>\n",
       "      <td>29.313000</td>\n",
       "      <td>566700.0</td>\n",
       "    </tr>\n",
       "    <tr>\n",
       "      <th>4</th>\n",
       "      <td>2017-01-06</td>\n",
       "      <td>36.150002</td>\n",
       "      <td>36.220001</td>\n",
       "      <td>35.599998</td>\n",
       "      <td>97.826090</td>\n",
       "      <td>29.191366</td>\n",
       "      <td>381800.0</td>\n",
       "    </tr>\n",
       "  </tbody>\n",
       "</table>\n",
       "</div>"
      ],
      "text/plain": [
       "         Date       Open       High        Low       Close  Adj Close  \\\n",
       "0  2017-01-02  36.099998  36.900002  35.730000  100.000000  29.840067   \n",
       "1  2017-01-03  36.770000  37.020000  35.830002   98.369571  29.353537   \n",
       "2  2017-01-04  36.360001  36.410000  35.860001   98.315220  29.337328   \n",
       "3  2017-01-05  35.939999  36.410000  35.889999   98.233704  29.313000   \n",
       "4  2017-01-06  36.150002  36.220001  35.599998   97.826090  29.191366   \n",
       "\n",
       "     Volume  \n",
       "0  270200.0  \n",
       "1  521200.0  \n",
       "2  154400.0  \n",
       "3  566700.0  \n",
       "4  381800.0  "
      ]
     },
     "execution_count": 22,
     "metadata": {},
     "output_type": "execute_result"
    }
   ],
   "source": [
    "copasa.head()"
   ]
  },
  {
   "cell_type": "code",
   "execution_count": 11,
   "metadata": {},
   "outputs": [],
   "source": [
    "copasa['Close'] = np.array(copasa['Close'])/np.array(copasa['Close'])[0] * 100.0\n",
    "sanepar['Close'] = np.array(sanepar['Close'])/np.array(sanepar['Close'])[0] * 100.0"
   ]
  },
  {
   "cell_type": "code",
   "execution_count": 7,
   "metadata": {},
   "outputs": [
    {
     "name": "stderr",
     "output_type": "stream",
     "text": [
      "<ipython-input-7-ca975263d645>:2: SettingWithCopyWarning: \n",
      "A value is trying to be set on a copy of a slice from a DataFrame\n",
      "\n",
      "See the caveats in the documentation: https://pandas.pydata.org/pandas-docs/stable/user_guide/indexing.html#returning-a-view-versus-a-copy\n",
      "  sanepar['Date'][e] = sanepar['Date'][e].replace(\"-\", \"\")\n",
      "<ipython-input-7-ca975263d645>:7: SettingWithCopyWarning: \n",
      "A value is trying to be set on a copy of a slice from a DataFrame\n",
      "\n",
      "See the caveats in the documentation: https://pandas.pydata.org/pandas-docs/stable/user_guide/indexing.html#returning-a-view-versus-a-copy\n",
      "  copasa['Date'][e] = copasa['Date'][e].replace(\"-\", \"\")\n"
     ]
    }
   ],
   "source": [
    "for e in range(0, len(sanepar['Date'])):\n",
    "    sanepar['Date'][e] = sanepar['Date'][e].replace(\"-\", \"\")\n",
    "\n",
    "sanepar['Date'] = np.array(sanepar['Date']).astype('int')\n",
    "\n",
    "for e in range(0, len(copasa['Date'])):\n",
    "    copasa['Date'][e] = copasa['Date'][e].replace(\"-\", \"\")\n",
    "\n",
    "copasa['Date'] = np.array(copasa['Date']).astype('int')"
   ]
  },
  {
   "cell_type": "code",
   "execution_count": 24,
   "metadata": {},
   "outputs": [
    {
     "ename": "TypeError",
     "evalue": "strptime() argument 1 must be str, not datetime.datetime",
     "output_type": "error",
     "traceback": [
      "\u001b[1;31m---------------------------------------------------------------------------\u001b[0m",
      "\u001b[1;31mTypeError\u001b[0m                                 Traceback (most recent call last)",
      "\u001b[1;32m<ipython-input-24-34ec15c1d2b6>\u001b[0m in \u001b[0;36m<module>\u001b[1;34m\u001b[0m\n\u001b[0;32m      1\u001b[0m \u001b[1;32mfor\u001b[0m \u001b[0me\u001b[0m \u001b[1;32min\u001b[0m \u001b[0mrange\u001b[0m\u001b[1;33m(\u001b[0m\u001b[1;36m0\u001b[0m\u001b[1;33m,\u001b[0m \u001b[0mlen\u001b[0m\u001b[1;33m(\u001b[0m\u001b[0msanepar\u001b[0m\u001b[1;33m[\u001b[0m\u001b[1;34m'Date'\u001b[0m\u001b[1;33m]\u001b[0m\u001b[1;33m)\u001b[0m\u001b[1;33m)\u001b[0m\u001b[1;33m:\u001b[0m\u001b[1;33m\u001b[0m\u001b[1;33m\u001b[0m\u001b[0m\n\u001b[1;32m----> 2\u001b[1;33m     \u001b[0msanepar\u001b[0m\u001b[1;33m[\u001b[0m\u001b[1;34m'Date'\u001b[0m\u001b[1;33m]\u001b[0m\u001b[1;33m[\u001b[0m\u001b[0me\u001b[0m\u001b[1;33m]\u001b[0m \u001b[1;33m=\u001b[0m \u001b[0mdatetime\u001b[0m\u001b[1;33m.\u001b[0m\u001b[0mstrptime\u001b[0m\u001b[1;33m(\u001b[0m\u001b[0msanepar\u001b[0m\u001b[1;33m[\u001b[0m\u001b[1;34m'Date'\u001b[0m\u001b[1;33m]\u001b[0m\u001b[1;33m[\u001b[0m\u001b[0me\u001b[0m\u001b[1;33m]\u001b[0m\u001b[1;33m,\u001b[0m \u001b[1;34m'%Y-%m-%d'\u001b[0m\u001b[1;33m)\u001b[0m\u001b[1;33m\u001b[0m\u001b[1;33m\u001b[0m\u001b[0m\n\u001b[0m",
      "\u001b[1;31mTypeError\u001b[0m: strptime() argument 1 must be str, not datetime.datetime"
     ]
    }
   ],
   "source": [
    "for e in range(0, len(sanepar['Date'])):\n",
    "    sanepar['Date'][e] = datetime.strptime(sanepar['Date'][e], '%Y-%m-%d')"
   ]
  },
  {
   "cell_type": "code",
   "execution_count": 29,
   "metadata": {},
   "outputs": [
    {
     "name": "stderr",
     "output_type": "stream",
     "text": [
      "<ipython-input-29-699f34dc9423>:2: SettingWithCopyWarning: \n",
      "A value is trying to be set on a copy of a slice from a DataFrame\n",
      "\n",
      "See the caveats in the documentation: https://pandas.pydata.org/pandas-docs/stable/user_guide/indexing.html#returning-a-view-versus-a-copy\n",
      "  copasa['Date'][e] = datetime.strptime(copasa['Date'][e], '%Y-%m-%d')\n"
     ]
    }
   ],
   "source": [
    "for e in range(0, len(copasa['Date'])):\n",
    "    copasa['Date'][e] = datetime.strptime(copasa['Date'][e], '%Y-%m-%d')"
   ]
  },
  {
   "cell_type": "code",
   "execution_count": 40,
   "metadata": {},
   "outputs": [
    {
     "data": {
      "text/plain": [
       "1"
      ]
     },
     "execution_count": 40,
     "metadata": {},
     "output_type": "execute_result"
    }
   ],
   "source": [
    "sum(copasa['Close'] == sanepar['Close'])"
   ]
  },
  {
   "cell_type": "code",
   "execution_count": 48,
   "metadata": {},
   "outputs": [
    {
     "data": {
      "image/png": "[encoded data removed]",
      "text/plain": [
       "<Figure size 432x288 with 1 Axes>"
      ]
     },
     "metadata": {
      "needs_background": "light"
     },
     "output_type": "display_data"
    },
    {
     "data": {
      "text/plain": [
       "<Figure size 1440x2160 with 0 Axes>"
      ]
     },
     "metadata": {},
     "output_type": "display_data"
    }
   ],
   "source": [
    "fig, ax = plt.subplots()\n",
    "fig.tight_layout()\n",
    "plt.savefig('output.png', dpi=3000)\n",
    "plt.plot(copasa['Date'], copasa['Close'], c = 'black')\n",
    "plt.plot(sanepar['Date'], sanepar['Close'], c = 'turquoise')\n",
    "plt.setp(ax.get_xticklabels(), rotation=40, horizontalalignment='right')\n",
    "plt.figure(figsize=(20,30))\n",
    "plt.show()"
   ]
  }
 ],
 "metadata": {
  "kernelspec": {
   "display_name": "Python 3",
   "language": "python",
   "name": "python3"
  },
  "language_info": {
   "codemirror_mode": {
    "name": "ipython",
    "version": 3
   },
   "file_extension": ".py",
   "mimetype": "text/x-python",
   "name": "python",
   "nbconvert_exporter": "python",
   "pygments_lexer": "ipython3",
   "version": "3.8.3"
  }
 },
 "nbformat": 4,
 "nbformat_minor": 4
}
