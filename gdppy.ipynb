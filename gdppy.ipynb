{
 "cells": [
  {
   "cell_type": "code",
   "execution_count": 63,
   "metadata": {},
   "outputs": [],
   "source": [
    "import numpy as np, pandas as pd, matplotlib.pyplot as plt"
   ]
  },
  {
   "cell_type": "code",
   "execution_count": 13,
   "metadata": {},
   "outputs": [],
   "source": [
    "df = pd.read_excel('gdplev1.xlsx', sheet_name = 1)\n",
    "df.dropna(inplace = True)\n",
    "df.reset_index(inplace = True)\n",
    "df.drop(columns=['index'], inplace = True)"
   ]
  },
  {
   "cell_type": "markdown",
   "metadata": {},
   "source": [
    "Importei os métodos e limpei o df."
   ]
  },
  {
   "cell_type": "code",
   "execution_count": 14,
   "metadata": {},
   "outputs": [
    {
     "data": {
      "text/plain": [
       "0.006060870587341283"
      ]
     },
     "execution_count": 14,
     "metadata": {},
     "output_type": "execute_result"
    }
   ],
   "source": [
    "garray = df['gdp'].values\n",
    "qarray = df['quarter'].values\n",
    "gavg = ((garray[-1] / garray[0]) ** (1 / len(garray))) - 1\n",
    "gavg"
   ]
  },
  {
   "cell_type": "markdown",
   "metadata": {},
   "source": [
    "Achamos o crescimento médio de 1989 até 2019."
   ]
  },
  {
   "cell_type": "code",
   "execution_count": 55,
   "metadata": {},
   "outputs": [],
   "source": [
    "pgdp = []\n",
    "\n",
    "for e in range(0, len(garray)):\n",
    "    if e == 0:\n",
    "        pgdp.append(garray[0])\n",
    "    else:\n",
    "        pgdp.append(garray[e - 1] * (1 + (gavg**e)))"
   ]
  },
  {
   "cell_type": "markdown",
   "metadata": {},
   "source": [
    "Temos o PIB crescendo desde 1989 à taxa constante de ```gavg``` (```pgdp```)."
   ]
  },
  {
   "cell_type": "code",
   "execution_count": 65,
   "metadata": {},
   "outputs": [
    {
     "data": {
      "text/plain": [
       "{'1990Q4': 9398,\n",
       " '2001Q1': 13260,\n",
       " '2001Q3': 13300,\n",
       " '2008Q1': 15762,\n",
       " '2008Q3': 15752,\n",
       " '2011Q1': 15750,\n",
       " '2011Q3': 15825,\n",
       " '2014Q1': 16663}"
      ]
     },
     "execution_count": 65,
     "metadata": {},
     "output_type": "execute_result"
    }
   ],
   "source": [
    "picosvalue = []\n",
    "picosindex = []\n",
    "gdpint = [int(i) for i in pgdp]\n",
    "\n",
    "for value in range(0, len(gdpint)):\n",
    "    if gdpint[value] == gdpint[0]:\n",
    "        pass\n",
    "    else:\n",
    "        if gdpint[value] == gdpint[len(gdpint) - 1]:\n",
    "            pass\n",
    "        else:\n",
    "            if gdpint[value] > gdpint[value - 1]:\n",
    "                if gdpint[value] > gdpint[value + 1]:\n",
    "                    picosvalue.append(gdpint[value])\n",
    "                    picosindex.append(value)\n",
    "                    \n",
    "qpicos = [qarray[e] for e in picosindex]\n",
    "picosdict = dict(zip(qpicos, picosvalue))\n",
    "picosdict"
   ]
  },
  {
   "cell_type": "markdown",
   "metadata": {},
   "source": [
    "Achamos os picos, com a relação trimestre-pico acima."
   ]
  },
  {
   "cell_type": "code",
   "execution_count": 66,
   "metadata": {},
   "outputs": [
    {
     "data": {
      "text/plain": [
       "False"
      ]
     },
     "execution_count": 66,
     "metadata": {},
     "output_type": "execute_result"
    }
   ],
   "source": [
    "picosavg = sum(picosvalue) / len(picosvalue)\n",
    "gdpwint[0] >= picosavg"
   ]
  },
  {
   "cell_type": "markdown",
   "metadata": {},
   "source": [
    "Calculamos o PIB médio dos picos e concluímos que é maior que o de 1989."
   ]
  }
 ],
 "metadata": {
  "kernelspec": {
   "display_name": "Python 3",
   "language": "python",
   "name": "python3"
  },
  "language_info": {
   "codemirror_mode": {
    "name": "ipython",
    "version": 3
   },
   "file_extension": ".py",
   "mimetype": "text/x-python",
   "name": "python",
   "nbconvert_exporter": "python",
   "pygments_lexer": "ipython3",
   "version": "3.7.3"
  }
 },
 "nbformat": 4,
 "nbformat_minor": 2
}
