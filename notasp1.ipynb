{
 "cells": [
  {
   "cell_type": "code",
   "execution_count": 2,
   "metadata": {
    "collapsed": true
   },
   "outputs": [],
   "source": [
    "#Biliotecas\n",
    "import pandas as pd, numpy as np, seaborn as sns, matplotlib.pyplot as plt\n",
    "%matplotlib inline"
   ]
  },
  {
   "cell_type": "code",
   "execution_count": 3,
   "metadata": {
    "collapsed": true
   },
   "outputs": [],
   "source": [
    "#Carregamento de arquivo e limpeza de dados\n",
    "notas = pd.read_excel('AlgLin2018NotasP1.xls')\n",
    "notas.drop(columns=['Unnamed: 2', 'Unnamed: 3'], inplace = True)\n",
    "notas.rename(columns={'Unnamed: 1' : 'Pontos', 'Instituto de Economia' : 'Matrícula'}, inplace = True)\n",
    "notas.index = notas['Matrícula']\n",
    "notas.drop(['Algebra Linear', 'Matrícula'], inplace = True)\n",
    "notas.drop(columns=['Matrícula'], inplace = True)\n",
    "notas.reset_index(inplace = True)\n",
    "notas.dropna(inplace = True)\n",
    "notas['Matrícula'] = notas['Matrícula'].astype(dtype = 'int64')\n",
    "notas['Pontos'] = pd.to_numeric(notas['Pontos'])\n",
    "notas.reset_index(inplace = True)\n",
    "notas.drop(columns=['index'], inplace = True)"
   ]
  },
  {
   "cell_type": "markdown",
   "metadata": {},
   "source": [
    "Abaixo seguem algumas estatísticas básicas."
   ]
  },
  {
   "cell_type": "code",
   "execution_count": 4,
   "metadata": {},
   "outputs": [
    {
     "data": {
      "text/plain": [
       "count     47.000000\n",
       "mean      44.212766\n",
       "std       26.426219\n",
       "min        0.000000\n",
       "25%       20.500000\n",
       "50%       47.000000\n",
       "75%       63.000000\n",
       "max      100.000000\n",
       "Name: Pontos, dtype: float64"
      ]
     },
     "execution_count": 4,
     "metadata": {},
     "output_type": "execute_result"
    }
   ],
   "source": [
    "notas['Pontos'].describe()"
   ]
  },
  {
   "cell_type": "code",
   "execution_count": 5,
   "metadata": {},
   "outputs": [
    {
     "data": {
      "image/png": "iVBORw0KGgoAAAANSUhEUgAAAnsAAAG6CAYAAABwaIAbAAAABHNCSVQICAgIfAhkiAAAAAlwSFlz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\n",
      "text/plain": [
       "<matplotlib.figure.Figure at 0x264441197f0>"
      ]
     },
     "metadata": {},
     "output_type": "display_data"
    }
   ],
   "source": [
    #Gráfico
    "notas2 = notas.sort_values('Pontos')\n",
    "notas2.reset_index(inplace = True)\n",
    "notas2.drop('index', axis = 1, inplace = True)\n",
    "\n",
    "xlen = len(notas2['Pontos'])\n",
    "median = notas2['Pontos'].median()\n",
    "med = notas2['Pontos'].mean()\n",
    "\n",
    "notas2.plot(kind='bar', x='Matrícula', y='Pontos', color = sns.color_palette('Blues_d', len(range(50))), figsize=(10,6), label='')\n",
    "plt.plot([0,xlen], [median,median], c='#00C6FF', label='Mediana')\n",
    "plt.plot([0,xlen], [med,med], c='#0074FF', label='Média')\n",
    "plt.xlabel('Número de matrícula', labelpad = 20, size = 14)\n",
    "plt.ylabel('Pontuação', labelpad = 20, size = 14)\n",
    "plt.legend()\n",
    "plt.show()"
   ]
  },
  {
   "cell_type": "code",
   "execution_count": 7,
   "metadata": {},
   "outputs": [
    {
     "data": {
      "text/plain": [
       "66"
      ]
     },
     "execution_count": 7,
     "metadata": {},
     "output_type": "execute_result"
    }
   ],
   "source": [
    "def findp():\n",
    "    p = 0\n",
    "    while np.percentile(notas2['Pontos'], p) < 60.00:\n",
    "        p += 1\n",
    "    return p\n",
    "\n",
    "findp()"
   ]
  },
  {
   "cell_type": "markdown",
   "metadata": {},
   "source": [
    "É possível perceber uma alta correlação entre número de matrícula e pontuação i.e. as notas mostraram-se bem discrepantes, algo apreendido no elevado desvio padrão. Ainda, como visto na célula anterior, 66% dos que fizeram a avaliação obtiveram nota inferior à média necessária."
   ]
  },
  {
   "cell_type": "markdown",
   "metadata": {},
   "source": [
    "Encontre sua posição abaixo!"
   ]
  },
  {
   "cell_type": "code",
   "execution_count": null,
   "metadata": {},
   "outputs": [],
   "source": [
    "notasbusca = notas2.set_index('Matrícula')\n",
    "\n",
    "n = int(input('Digite aqui seu DRE: '))\n",
    "\n",
    "try:\n",
    "    pos = notasbusca.index.get_loc(n)\n",
    "except KeyError:\n",
    "    print('Você digitou um DRE inválido ou não compareceu à P1.')\n",
    "        \n",
    "k = len(notasbusca.index)\n",
    "print('Você está na posição {:d} de {:d} avaliações.'.format(pos + 1, k))"
   ]
  }
 ],
 "metadata": {
  "kernelspec": {
   "display_name": "Python 3",
   "language": "python",
   "name": "python3"
  },
  "language_info": {
   "codemirror_mode": {
    "name": "ipython",
    "version": 3
   },
   "file_extension": ".py",
   "mimetype": "text/x-python",
   "name": "python",
   "nbconvert_exporter": "python",
   "pygments_lexer": "ipython3",
   "version": "3.6.3"
  }
 },
 "nbformat": 4,
 "nbformat_minor": 2
}
